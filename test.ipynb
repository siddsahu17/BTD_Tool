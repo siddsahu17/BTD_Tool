{
 "cells": [
  {
   "cell_type": "code",
   "execution_count": 1,
   "id": "1920bce8",
   "metadata": {},
   "outputs": [],
   "source": [
    "from flask import Flask, render_template, request, jsonify\n",
    "import pandas as pd\n",
    "import plotly.express as px\n",
    "import plotly.io as pio\n",
    "import matplotlib\n",
    "matplotlib.use('Agg')\n",
    "import matplotlib.pyplot as plt\n",
    "import seaborn as sns\n",
    "import base64\n",
    "from io import BytesIO\n",
    "import json\n",
    "from datetime import datetime, timedelta\n",
    "import os\n",
    "import hashlib\n",
    "import numpy as np\n",
    "\n",
    "app = Flask(__name__)\n",
    "\n",
    "from pymongo import MongoClient"
   ]
  },
  {
   "cell_type": "code",
   "execution_count": 14,
   "id": "e10a06e9",
   "metadata": {},
   "outputs": [],
   "source": [
    "client = MongoClient(\"mongodb://localhost:27017/\")\n",
    "db = client[\"Dashboard\"]\n",
    "collection = db[\"Coffee\"]"
   ]
  },
  {
   "cell_type": "code",
   "execution_count": 15,
   "id": "c4038c36",
   "metadata": {},
   "outputs": [],
   "source": [
    "df = pd.DataFrame(list(collection.find()))\n",
    "\n",
    "# Drop MongoDB's internal _id column\n",
    "if '_id' in df.columns:\n",
    "    df.drop('_id', axis=1, inplace=True)"
   ]
  },
  {
   "cell_type": "code",
   "execution_count": 16,
   "id": "02b1f634",
   "metadata": {},
   "outputs": [],
   "source": [
    "def preprocess_dataframe(df):\n",
    "    df['date'] = pd.to_datetime(df['transaction_date'] + '-' + df['transaction_time'], format=\"mixed\")\n",
    "    df.drop(['transaction_date', 'transaction_time'], axis=1, inplace=True)\n",
    "    df.set_index('date', inplace=True)\n",
    "    df['month'] = df.index.month\n",
    "    df['is_weekend'] = df.index.weekday >= 5\n",
    "    df['revenue'] = df['transaction_qty'] * df['unit_price']\n",
    "    df['hour'] = df.index.hour\n",
    "    df['day'] = df.index.day\n",
    "    df['day_name'] = df.index.day_name()\n",
    "    return df\n",
    "\n",
    "df = preprocess_dataframe(df)"
   ]
  },
  {
   "cell_type": "code",
   "execution_count": 17,
   "id": "d731d879",
   "metadata": {},
   "outputs": [
    {
     "name": "stdout",
     "output_type": "stream",
     "text": [
      "['transaction_id', 'transaction_qty', 'store_id', 'store_location', 'product_id', 'unit_price', 'product_category', 'product_type', 'product_detail', 'month', 'is_weekend', 'revenue', 'hour', 'day', 'day_name']\n"
     ]
    }
   ],
   "source": [
    "print(df.columns.tolist())"
   ]
  },
  {
   "cell_type": "code",
   "execution_count": null,
   "id": "d3e1ebb7",
   "metadata": {},
   "outputs": [],
   "source": []
  }
 ],
 "metadata": {
  "kernelspec": {
   "display_name": ".venv",
   "language": "python",
   "name": "python3"
  },
  "language_info": {
   "codemirror_mode": {
    "name": "ipython",
    "version": 3
   },
   "file_extension": ".py",
   "mimetype": "text/x-python",
   "name": "python",
   "nbconvert_exporter": "python",
   "pygments_lexer": "ipython3",
   "version": "3.10.11"
  }
 },
 "nbformat": 4,
 "nbformat_minor": 5
}
